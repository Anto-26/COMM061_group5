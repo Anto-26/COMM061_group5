{
 "cells": [
  {
   "cell_type": "markdown",
   "id": "4b8a0184-d121-4583-a41b-be9d9837cb53",
   "metadata": {},
   "source": [
    "# **Performance Checking Notebook for the service deployed**"
   ]
  },
  {
   "cell_type": "markdown",
   "id": "df97b12c-f3d9-44fd-9f92-1fbb16e378b6",
   "metadata": {},
   "source": [
    "**Function to check the deployed endpoint:**"
   ]
  },
  {
   "cell_type": "markdown",
   "id": "8c133a1a-6a74-4c1e-9d17-2ab0a2258033",
   "metadata": {},
   "source": [
    "Before running the below command please run the below command from the same path where app.py file is placed.\n",
    "\n",
    "python app.py\n",
    "\n",
    "Once the flask service is running, run the below command to test the endpoint."
   ]
  },
  {
   "cell_type": "code",
   "execution_count": 27,
   "id": "2dab470f-3658-40dc-b2e1-f755d48b32a9",
   "metadata": {},
   "outputs": [
    {
     "name": "stdout",
     "output_type": "stream",
     "text": [
      "Response: {'predicted_labels': ['B-O', 'B-O', 'B-O', 'B-O', 'B-O', 'B-O', 'B-O', 'B-O', 'B-O', 'B-O', 'B-O', 'B-O', 'B-O', 'B-O', 'B-O', 'B-O', 'B-O', 'B-O', 'B-O', 'B-O', 'B-O']}\n",
      "Response: {'predicted_labels': ['B-O', 'B-O', 'B-O', 'B-O', 'B-O', 'B-O', 'B-O', 'B-O', 'B-O', 'B-O', 'B-O', 'B-O', 'B-O', 'B-O', 'B-O', 'B-O', 'B-O', 'B-O', 'B-O', 'B-O', 'B-O', 'B-O', 'B-O', 'B-O', 'B-O', 'B-O', 'B-LF', 'B-O', 'B-O', 'B-O', 'B-O', 'B-O']}\n"
     ]
    }
   ],
   "source": [
    "import requests\n",
    "\n",
    "# URL of the deployed endpoint\n",
    "endpoint_url = \"http://127.0.0.1:5000/predict\"\n",
    "\n",
    "# Function to send a request to the endpoint\n",
    "def send_request(tokens):\n",
    "    headers = {'Content-Type': 'application/json'}\n",
    "    data = {\"tokens\": tokens}\n",
    "    response = requests.post(endpoint_url, json=data, headers=headers)\n",
    "    return response.json()\n",
    "\n",
    "# Test scenario 1:\n",
    "tokens = [ \"Focal\", \"increases\", \"in\", \"fMRI\", \"-\", \"activity\", \"were\", \"observed\", \"in\", \"area\", \"AIP\", \",\", \"consisting\", \"of\", \"both\", \"aAIP\", \"and\", \"pAIP\", \"(\", \"Fig\", \".\" ]\n",
    "response = send_request(tokens)\n",
    "print(\"Response:\", response)\n",
    "\n",
    "# Test scenario 2:\n",
    "tokens = [ \"Their\", \"transcripts\", \"were\", \"generally\", \"classified\", \"into\", \"two\", \"groups\", \"including\", \"long\", \"non\", \"-\", \"coding\", \"RNAs\", \"(\", \"longer\", \"than\", \"200\", \"nt\", \")\", \"and\", \"small\", \"RNAs\", \"(\", \"sRNAs\", \",\", \"shorter\", \"than\", \"200\", \"nt\", \")\", \".\" ]\n",
    "response = send_request(tokens)\n",
    "print(\"Response:\", response)"
   ]
  },
  {
   "cell_type": "markdown",
   "id": "7390b87e-c461-4357-9de2-c3d7f58a2eec",
   "metadata": {},
   "source": [
    "**To view the log in log file:**"
   ]
  },
  {
   "cell_type": "code",
   "execution_count": 28,
   "id": "0a929dc6-2d43-4940-9ec4-fd8b8579dddc",
   "metadata": {},
   "outputs": [
    {
     "name": "stdout",
     "output_type": "stream",
     "text": [
      "2024-05-24 03:25:28 | User Input: ['Focal', 'increases', 'in', 'fMRI', '-', 'activity', 'were', 'observed', 'in', 'area', 'AIP', ',', 'consisting', 'of', 'both', 'aAIP', 'and', 'pAIP', '(', 'Fig', '.'] | Model Prediction: ['B-O', 'B-O', 'B-O', 'B-O', 'B-O', 'B-O', 'B-O', 'B-O', 'B-O', 'B-O', 'B-O', 'B-O', 'B-O', 'B-O', 'B-O', 'B-O', 'B-O', 'B-O', 'B-O', 'B-O', 'B-O']\n",
      "\n",
      "2024-05-24 03:25:28 | User Input: ['Their', 'transcripts', 'were', 'generally', 'classified', 'into', 'two', 'groups', 'including', 'long', 'non', '-', 'coding', 'RNAs', '(', 'longer', 'than', '200', 'nt', ')', 'and', 'small', 'RNAs', '(', 'sRNAs', ',', 'shorter', 'than', '200', 'nt', ')', '.'] | Model Prediction: ['B-O', 'B-O', 'B-O', 'B-O', 'B-O', 'B-O', 'B-O', 'B-O', 'B-O', 'B-O', 'B-O', 'B-O', 'B-O', 'B-O', 'B-O', 'B-O', 'B-O', 'B-O', 'B-O', 'B-O', 'B-O', 'B-O', 'B-O', 'B-O', 'B-O', 'B-O', 'B-LF', 'B-O', 'B-O', 'B-O', 'B-O', 'B-O']\n",
      "\n"
     ]
    }
   ],
   "source": [
    "with open(\"interaction_log.txt\", \"r\") as log_file:\n",
    "    log_data = log_file.readlines()\n",
    "    for line in log_data:\n",
    "        print(line)"
   ]
  },
  {
   "cell_type": "markdown",
   "id": "e84763ee-887f-4fcb-9a14-47d51e3d0f50",
   "metadata": {},
   "source": [
    "**To clear the log in the log file:**"
   ]
  },
  {
   "cell_type": "code",
   "execution_count": 25,
   "id": "0d9f3b51-22c9-419f-97af-a7c4edca5a4b",
   "metadata": {},
   "outputs": [],
   "source": [
    "with open(\"interaction_log.txt\", \"w\") as log_file:\n",
    "    log_file.write(\"\") "
   ]
  },
  {
   "cell_type": "markdown",
   "id": "fae9aa27-85e6-4786-bbbe-18bd0191f204",
   "metadata": {},
   "source": [
    "**Strech Testing:**"
   ]
  },
  {
   "cell_type": "code",
   "execution_count": null,
   "id": "fad3dbc9-a68e-48ac-9aaa-bf44225dd640",
   "metadata": {},
   "outputs": [],
   "source": [
    "import requests\n",
    "import threading\n",
    "\n",
    "# Function to send requests to the service\n",
    "def send_request(successful_requests):\n",
    "    url = \"http://127.0.0.1:5000/predict\" \n",
    "    headers = {'Content-Type': 'application/json'}\n",
    "    data = {\"tokens\": [\"example\", \"input\", \"tokens\"]}\n",
    "\n",
    "    try:\n",
    "        response = requests.post(url, json=data, headers=headers)\n",
    "        if response.status_code == 200:\n",
    "            successful_requests.append(1)\n",
    "    except Exception as e:\n",
    "        pass  \n",
    "\n",
    "# Number of concurrent requests\n",
    "num_requests = 3000\n",
    "\n",
    "# List to track successful requests\n",
    "successful_requests = []\n",
    "\n",
    "# Create threads to simulate concurrent users\n",
    "threads = [threading.Thread(target=send_request, args=(successful_requests,)) for _ in range(num_requests)]\n",
    "\n",
    "# Start all threads\n",
    "for thread in threads:\n",
    "    thread.start()\n",
    "\n",
    "# Wait for all threads to complete\n",
    "for thread in threads:\n",
    "    thread.join()\n",
    "\n",
    "# Print the total number of successful requests\n",
    "total_successful_requests = len(successful_requests)\n",
    "print(f\"Total successful requests: {total_successful_requests}\")\n"
   ]
  },
  {
   "cell_type": "markdown",
   "id": "1c489742-a994-4568-8c3f-40ab87e555eb",
   "metadata": {},
   "source": [
    "**Inference:**\n",
    "\n",
    "From the above strech testing, it is evident that after 2849 requests the web service gets connection issues. "
   ]
  }
 ],
 "metadata": {
  "kernelspec": {
   "display_name": "Python 3 (ipykernel)",
   "language": "python",
   "name": "python3"
  },
  "language_info": {
   "codemirror_mode": {
    "name": "ipython",
    "version": 3
   },
   "file_extension": ".py",
   "mimetype": "text/x-python",
   "name": "python",
   "nbconvert_exporter": "python",
   "pygments_lexer": "ipython3",
   "version": "3.10.12"
  }
 },
 "nbformat": 4,
 "nbformat_minor": 5
}
