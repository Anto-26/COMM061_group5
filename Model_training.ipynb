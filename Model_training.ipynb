{
 "cells": [
  {
   "cell_type": "markdown",
   "id": "ae31b909-8495-4b37-8ff4-9fa7b9debcf2",
   "metadata": {},
   "source": [
    "**Training the model:**"
   ]
  },
  {
   "cell_type": "code",
   "execution_count": 1,
   "id": "a9f06e3a-bb32-4971-88d5-d2b11e690792",
   "metadata": {},
   "outputs": [
    {
     "name": "stderr",
     "output_type": "stream",
     "text": [
      "/tmp/ipykernel_885082/4282510864.py:68: UserWarning: Creating a tensor from a list of numpy.ndarrays is extremely slow. Please consider converting the list to a single numpy.ndarray with numpy.array() before converting to a tensor. (Triggered internally at  ../torch/csrc/utils/tensor_new.cpp:210.)\n",
      "  input_vectors = torch.tensor(input_vectors, dtype=torch.float32)\n",
      "/user/HS402/av00732/.local/lib/python3.10/site-packages/torch/nn/modules/rnn.py:62: UserWarning: dropout option adds dropout after all but last recurrent layer, so non-zero dropout expects num_layers greater than 1, but got dropout=0.3 and num_layers=1\n",
      "  warnings.warn(\"dropout option adds dropout after all but last \"\n"
     ]
    },
    {
     "name": "stdout",
     "output_type": "stream",
     "text": [
      "Epoch 1, Loss: 43.2709\n",
      "Epoch 2, Loss: 32.0730\n",
      "Epoch 3, Loss: 29.2046\n",
      "Epoch 4, Loss: 27.7990\n",
      "Epoch 5, Loss: 26.2266\n",
      "Epoch 6, Loss: 25.8519\n",
      "Epoch 7, Loss: 25.1497\n",
      "Epoch 8, Loss: 24.8367\n",
      "Epoch 9, Loss: 23.7956\n",
      "Epoch 10, Loss: 23.1173\n"
     ]
    }
   ],
   "source": [
    "import torch\n",
    "import torch.nn as nn\n",
    "import torch.optim as optim\n",
    "import torch.utils.data as data\n",
    "import numpy as np\n",
    "import pickle\n",
    "from gensim.models import KeyedVectors\n",
    "from sklearn.metrics import classification_report\n",
    "from datasets import load_dataset\n",
    "from torch.utils.data import TensorDataset\n",
    "import gensim.downloader as api\n",
    "\n",
    "\n",
    "class RNNModel(nn.Module):\n",
    "    def __init__(self, input_size, hidden_dim, output_dim, n_layers=1, dropout=0.3):\n",
    "        super(RNNModel, self).__init__()\n",
    "        self.rnn = nn.RNN(\n",
    "            input_size=input_size,\n",
    "            hidden_size=hidden_dim,\n",
    "            num_layers=n_layers,\n",
    "            dropout=dropout,\n",
    "            batch_first=True\n",
    "        )\n",
    "        self.fc = nn.Linear(hidden_dim, output_dim)\n",
    "\n",
    "    def forward(self, input_vectors):\n",
    "        rnn_out, _ = self.rnn(input_vectors)\n",
    "        output = self.fc(rnn_out)\n",
    "        return output\n",
    "\n",
    "\n",
    "def prepare_data(dataset, word2vec_model, label_encoding, max_len=128):\n",
    "    input_vectors = []\n",
    "    labels = []\n",
    "    \n",
    "    for data in dataset:\n",
    "        tokens = data['tokens']\n",
    "        ner_tags = data['ner_tags']\n",
    "        word_vectors = []\n",
    "        for token in tokens:\n",
    "            if token in word2vec_model:\n",
    "                word_vectors.append(word2vec_model[token])\n",
    "            else:\n",
    "                word_vectors.append(np.zeros(word2vec_model.vector_size))\n",
    "        \n",
    "        if len(word_vectors) > max_len:\n",
    "            word_vectors = word_vectors[:max_len]\n",
    "        else:\n",
    "            pad_length = max_len - len(word_vectors)\n",
    "            word_vectors.extend([np.zeros(word2vec_model.vector_size)] * pad_length)\n",
    "        \n",
    "        input_vectors.append(np.array(word_vectors))\n",
    "        \n",
    "        numerical_tags = [label_encoding.get(tag, -1) for tag in ner_tags]\n",
    "        if len(numerical_tags) > max_len:\n",
    "            numerical_tags = numerical_tags[:max_len]\n",
    "        else:\n",
    "            numerical_tags += [-1] * (max_len - len(numerical_tags))  \n",
    "        \n",
    "        labels.append(torch.tensor(numerical_tags))\n",
    "    \n",
    "    input_vectors = torch.tensor(input_vectors, dtype=torch.float32) \n",
    "    labels = torch.stack(labels)\n",
    "    \n",
    "    return TensorDataset(input_vectors, labels) \n",
    "\n",
    "def train_model(model, train_loader, num_epochs=10, lr=0.001):\n",
    "    criterion = nn.CrossEntropyLoss(ignore_index=-1)\n",
    "    optimizer = optim.Adam(model.parameters(), lr=lr)\n",
    "    for epoch in range(num_epochs):\n",
    "        model.train()\n",
    "        total_loss = 0\n",
    "        for input_vectors, labels in train_loader:\n",
    "            optimizer.zero_grad()\n",
    "            outputs = model(input_vectors)\n",
    "            logits_flat = outputs.view(-1, outputs.shape[-1])\n",
    "            labels_flat = labels.view(-1)\n",
    "            loss = criterion(logits_flat, labels_flat)\n",
    "            loss.backward()\n",
    "            optimizer.step()\n",
    "            total_loss += loss.item()\n",
    "        print(f\"Epoch {epoch + 1}, Loss: {total_loss:.4f}\")\n",
    "\n",
    "word2vec_model = api.load('word2vec-google-news-300')\n",
    "\n",
    "dataset = load_dataset(\"surrey-nlp/PLOD-CW\")\n",
    "train_dataset = dataset['train']\n",
    "\n",
    "label_encoding = {\"B-O\": 0, \"B-AC\": 1, \"B-LF\": 2, \"I-LF\": 3}\n",
    "\n",
    "train_data = prepare_data(train_dataset, word2vec_model, label_encoding)\n",
    "\n",
    "train_loader = data.DataLoader(train_data, batch_size=16, shuffle=True)\n",
    "\n",
    "input_size = word2vec_model.vector_size\n",
    "hidden_dim = 128\n",
    "output_dim = len(label_encoding)\n",
    "\n",
    "model = RNNModel(input_size, hidden_dim, output_dim)\n",
    "train_model(model, train_loader, num_epochs=10)"
   ]
  },
  {
   "cell_type": "markdown",
   "id": "e8f5cb1c-8d36-498a-8680-d63fef2ee25f",
   "metadata": {},
   "source": [
    "**Saving the model:**"
   ]
  },
  {
   "cell_type": "code",
   "execution_count": 2,
   "id": "90a3be23-bf02-4094-8c89-79e79e2755d3",
   "metadata": {},
   "outputs": [],
   "source": [
    "def save_model(model, word2vec_model, label_encoding, file_path):\n",
    "    model_data = {\n",
    "        'input_size': model.rnn.input_size,\n",
    "        'hidden_dim': model.rnn.hidden_size,\n",
    "        'output_dim': model.fc.out_features,\n",
    "        'n_layers': model.rnn.num_layers,\n",
    "        'dropout': model.rnn.dropout,\n",
    "        'state_dict': model.state_dict(),\n",
    "        'word2vec_model': word2vec_model,\n",
    "        'label_encoding': label_encoding\n",
    "    }\n",
    "    with open(file_path, 'wb') as f:\n",
    "        pickle.dump(model_data, f)"
   ]
  },
  {
   "cell_type": "code",
   "execution_count": 3,
   "id": "e5707ed3-7821-4cf3-9089-5e60f38189a1",
   "metadata": {},
   "outputs": [],
   "source": [
    "save_model(model, word2vec_model, label_encoding, 'model.pkl')"
   ]
  }
 ],
 "metadata": {
  "kernelspec": {
   "display_name": "Python 3 (ipykernel)",
   "language": "python",
   "name": "python3"
  },
  "language_info": {
   "codemirror_mode": {
    "name": "ipython",
    "version": 3
   },
   "file_extension": ".py",
   "mimetype": "text/x-python",
   "name": "python",
   "nbconvert_exporter": "python",
   "pygments_lexer": "ipython3",
   "version": "3.10.12"
  }
 },
 "nbformat": 4,
 "nbformat_minor": 5
}
